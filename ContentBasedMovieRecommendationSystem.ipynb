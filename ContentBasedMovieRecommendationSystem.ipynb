{
  "nbformat": 4,
  "nbformat_minor": 0,
  "metadata": {
    "colab": {
      "provenance": []
    },
    "kernelspec": {
      "name": "python3",
      "display_name": "Python 3"
    },
    "language_info": {
      "name": "python"
    }
  },
  "cells": [
    {
      "cell_type": "code",
      "execution_count": 1,
      "metadata": {
        "id": "_dLonNCQ4aCf"
      },
      "outputs": [],
      "source": [
        "import numpy as np\n",
        "import pandas as pd\n"
      ]
    },
    {
      "cell_type": "code",
      "source": [
        "credits= pd.read_csv('tmdb_5000_credits.csv')\n",
        "movies=pd.read_csv('tmdb_5000_movies.csv')"
      ],
      "metadata": {
        "id": "EnbONK0cJslV"
      },
      "execution_count": 2,
      "outputs": []
    },
    {
      "cell_type": "code",
      "source": [
        "credits.head()\n",
        "credits=credits.rename(columns={'movie_id':'id'})"
      ],
      "metadata": {
        "id": "q6L3Ncv5J5cN"
      },
      "execution_count": 10,
      "outputs": []
    },
    {
      "cell_type": "code",
      "source": [
        "movies_df_merge=movies.merge(credits,on='id')\n",
        "movies_df_merge=movies_df_merge.drop(columns=['homepage','title_x','title_y','status','production_companies'])"
      ],
      "metadata": {
        "id": "ZBSisHKyK2ln"
      },
      "execution_count": 17,
      "outputs": []
    },
    {
      "cell_type": "code",
      "source": [
        "movies_df_merge.info()"
      ],
      "metadata": {
        "colab": {
          "base_uri": "https://localhost:8080/"
        },
        "id": "0GMjXkrZL8bv",
        "outputId": "b2a56324-7a9c-4214-c227-9018a4e5ce67"
      },
      "execution_count": 19,
      "outputs": [
        {
          "output_type": "stream",
          "name": "stdout",
          "text": [
            "<class 'pandas.core.frame.DataFrame'>\n",
            "Int64Index: 4803 entries, 0 to 4802\n",
            "Data columns (total 18 columns):\n",
            " #   Column                Non-Null Count  Dtype  \n",
            "---  ------                --------------  -----  \n",
            " 0   budget                4803 non-null   int64  \n",
            " 1   genres                4803 non-null   object \n",
            " 2   id                    4803 non-null   int64  \n",
            " 3   keywords              4803 non-null   object \n",
            " 4   original_language     4803 non-null   object \n",
            " 5   original_title        4803 non-null   object \n",
            " 6   overview              4800 non-null   object \n",
            " 7   popularity            4803 non-null   float64\n",
            " 8   production_countries  4803 non-null   object \n",
            " 9   release_date          4802 non-null   object \n",
            " 10  revenue               4803 non-null   int64  \n",
            " 11  runtime               4801 non-null   float64\n",
            " 12  spoken_languages      4803 non-null   object \n",
            " 13  tagline               3959 non-null   object \n",
            " 14  vote_average          4803 non-null   float64\n",
            " 15  vote_count            4803 non-null   int64  \n",
            " 16  cast                  4803 non-null   object \n",
            " 17  crew                  4803 non-null   object \n",
            "dtypes: float64(3), int64(4), object(11)\n",
            "memory usage: 712.9+ KB\n"
          ]
        }
      ]
    },
    {
      "cell_type": "code",
      "source": [
        "movies_df_merge.head()['overview']"
      ],
      "metadata": {
        "colab": {
          "base_uri": "https://localhost:8080/"
        },
        "id": "kiNOLbp-MK4I",
        "outputId": "36f12477-2238-4b9a-85e4-2dc857eaafc3"
      },
      "execution_count": 21,
      "outputs": [
        {
          "output_type": "execute_result",
          "data": {
            "text/plain": [
              "0    In the 22nd century, a paraplegic Marine is di...\n",
              "Name: overview, dtype: object"
            ]
          },
          "metadata": {},
          "execution_count": 21
        }
      ]
    },
    {
      "cell_type": "code",
      "source": [
        "from sklearn.feature_extraction.text import TfidfVectorizer\n",
        "\n",
        "tfv= TfidfVectorizer(min_df=3, max_features= None, strip_accents='unicode',analyzer='word', token_pattern='r\\w{1,}',\n",
        "                     ngram_range=(1,3), stop_words='english')\n",
        "\n",
        "movies_df_merge['overview']=movies_df_merge['overview'].fillna('')"
      ],
      "metadata": {
        "id": "1jeeMna1MWkf"
      },
      "execution_count": 26,
      "outputs": []
    },
    {
      "cell_type": "code",
      "source": [
        "tfv_matrix= tfv.fit_transform(movies_df_merge['overview'])"
      ],
      "metadata": {
        "colab": {
          "base_uri": "https://localhost:8080/"
        },
        "id": "8iWeHpNLNZiL",
        "outputId": "8c7f7b2c-2ec6-47b1-b13c-eb5954b6c851"
      },
      "execution_count": 27,
      "outputs": [
        {
          "output_type": "stream",
          "name": "stderr",
          "text": [
            "/usr/local/lib/python3.10/dist-packages/sklearn/feature_extraction/text.py:409: UserWarning: Your stop_words may be inconsistent with your preprocessing. Tokenizing the stop words generated tokens ['ral', 'rd', 'rds', 'ready', 'reafter', 'reas', 'reby', 'red', 'ree', 'refore', 'rehand', 'rein', 'reover', 'rest', 'reupon', 'rever', 'rhaps', 'ribe', 'ring', 'rious', 'rly', 'rmer', 'rmerly', 'rom', 'ront', 'ross', 'rough', 'roughout', 'round', 'rs', 'rself', 'rselves', 'rst', 'rt', 'rtheless', 'rther', 'rty', 'ru', 'rwards', 'rwise', 'ry', 'ryone', 'rything', 'rywhere'] not in stop_words.\n",
            "  warnings.warn(\n"
          ]
        }
      ]
    },
    {
      "cell_type": "code",
      "source": [
        "tfv_matrix.shape"
      ],
      "metadata": {
        "colab": {
          "base_uri": "https://localhost:8080/"
        },
        "id": "0cn7ybg4PJoE",
        "outputId": "385f7909-bd2e-4de7-e055-20348f86b039"
      },
      "execution_count": 30,
      "outputs": [
        {
          "output_type": "execute_result",
          "data": {
            "text/plain": [
              "(4803, 3626)"
            ]
          },
          "metadata": {},
          "execution_count": 30
        }
      ]
    },
    {
      "cell_type": "code",
      "source": [
        "from sklearn.metrics.pairwise import sigmoid_kernel\n",
        "\n",
        "sig= sigmoid_kernel(tfv_matrix,tfv_matrix)"
      ],
      "metadata": {
        "id": "5Ldgp2g1PXvk"
      },
      "execution_count": 31,
      "outputs": []
    },
    {
      "cell_type": "code",
      "source": [
        "sig[0]"
      ],
      "metadata": {
        "colab": {
          "base_uri": "https://localhost:8080/"
        },
        "id": "ZcS-mFXxPk-l",
        "outputId": "3a860fd9-8df5-4f59-b06c-a5afe9f693a0"
      },
      "execution_count": 32,
      "outputs": [
        {
          "output_type": "execute_result",
          "data": {
            "text/plain": [
              "array([0.76170995, 0.76159416, 0.76159416, ..., 0.76159416, 0.76159906,\n",
              "       0.76159577])"
            ]
          },
          "metadata": {},
          "execution_count": 32
        }
      ]
    },
    {
      "cell_type": "code",
      "source": [
        "indices=pd.Series(movies_df_merge.index,index=movies_df_merge['original_title']).drop_duplicates()"
      ],
      "metadata": {
        "id": "ZUHt_0ILPvqA"
      },
      "execution_count": 33,
      "outputs": []
    },
    {
      "cell_type": "code",
      "source": [
        "indices"
      ],
      "metadata": {
        "colab": {
          "base_uri": "https://localhost:8080/"
        },
        "id": "JOVi4SPMQHCY",
        "outputId": "1f3ceda4-1b9b-4c5a-b666-a5007c7d1a3d"
      },
      "execution_count": 34,
      "outputs": [
        {
          "output_type": "execute_result",
          "data": {
            "text/plain": [
              "original_title\n",
              "Avatar                                         0\n",
              "Pirates of the Caribbean: At World's End       1\n",
              "Spectre                                        2\n",
              "The Dark Knight Rises                          3\n",
              "John Carter                                    4\n",
              "                                            ... \n",
              "El Mariachi                                 4798\n",
              "Newlyweds                                   4799\n",
              "Signed, Sealed, Delivered                   4800\n",
              "Shanghai Calling                            4801\n",
              "My Date with Drew                           4802\n",
              "Length: 4803, dtype: int64"
            ]
          },
          "metadata": {},
          "execution_count": 34
        }
      ]
    },
    {
      "cell_type": "code",
      "source": [
        "def give_rec(title, sig=sig):\n",
        "  idx=indices[title]\n",
        "  sig_scores=list(enumerate(sig[idx]))\n",
        "  sig_scores =sorted(sig_scores, key= lambda x: x[1], reverse=True)\n",
        "  sig_scores=sig_scores[1:11]\n",
        "  movie_indices=[i[0] for i in sig_scores]\n",
        "  return movies_df_merge['original_title'].iloc[movie_indices]"
      ],
      "metadata": {
        "id": "ibTXDfMWQSnk"
      },
      "execution_count": 35,
      "outputs": []
    },
    {
      "cell_type": "code",
      "source": [
        "give_rec('Avatar')"
      ],
      "metadata": {
        "colab": {
          "base_uri": "https://localhost:8080/"
        },
        "id": "5ca34sECRInB",
        "outputId": "1b618fb6-6efc-4b0d-c4ad-fb33bc648019"
      },
      "execution_count": 36,
      "outputs": [
        {
          "output_type": "execute_result",
          "data": {
            "text/plain": [
              "232                    The Wolverine\n",
              "4263                   The Dog Lover\n",
              "3724                   Falcon Rising\n",
              "3568    20,000 Leagues Under the Sea\n",
              "2130                    The American\n",
              "1013                        Child 44\n",
              "4413                       Childless\n",
              "3374                      Veer-Zaara\n",
              "4630                      Compliance\n",
              "4670                         Mad Max\n",
              "Name: original_title, dtype: object"
            ]
          },
          "metadata": {},
          "execution_count": 36
        }
      ]
    }
  ]
}